{
 "cells": [
  {
   "cell_type": "markdown",
   "id": "89941505-b6ba-415a-8367-8bac3cbe2be9",
   "metadata": {},
   "source": [
    "# Solutions"
   ]
  },
  {
   "cell_type": "code",
   "execution_count": 1,
   "id": "a131842a-c560-4e8d-86cb-bb354bf35ac0",
   "metadata": {},
   "outputs": [],
   "source": [
    "import numpy as np\n",
    "import pandas as pd\n",
    "import seaborn as sns\n",
    "import matplotlib.pyplot as plt\n",
    "from pandas.plotting import register_matplotlib_converters\n",
    "from collections import Counter\n",
    "from pylab import rcParams\n",
    "import re\n",
    "sns.set_style(\"darkgrid\")\n",
    "\n",
    "import warnings\n",
    "warnings.filterwarnings(\"ignore\")"
   ]
  },
  {
   "cell_type": "code",
   "execution_count": 78,
   "id": "38180983-8df9-4548-abe2-1a36eef7e991",
   "metadata": {},
   "outputs": [
    {
     "data": {
      "text/html": [
       "<div>\n",
       "<style scoped>\n",
       "    .dataframe tbody tr th:only-of-type {\n",
       "        vertical-align: middle;\n",
       "    }\n",
       "\n",
       "    .dataframe tbody tr th {\n",
       "        vertical-align: top;\n",
       "    }\n",
       "\n",
       "    .dataframe thead th {\n",
       "        text-align: right;\n",
       "    }\n",
       "</style>\n",
       "<table border=\"1\" class=\"dataframe\">\n",
       "  <thead>\n",
       "    <tr style=\"text-align: right;\">\n",
       "      <th></th>\n",
       "      <th>name</th>\n",
       "      <th>height</th>\n",
       "      <th>mass</th>\n",
       "      <th>hair_color</th>\n",
       "      <th>skin_color</th>\n",
       "      <th>eye_color</th>\n",
       "      <th>birth_year</th>\n",
       "      <th>gender</th>\n",
       "      <th>homeworld</th>\n",
       "      <th>species</th>\n",
       "    </tr>\n",
       "  </thead>\n",
       "  <tbody>\n",
       "    <tr>\n",
       "      <th>0</th>\n",
       "      <td>Luke Skywalker</td>\n",
       "      <td>172.0</td>\n",
       "      <td>77.0</td>\n",
       "      <td>blond</td>\n",
       "      <td>fair</td>\n",
       "      <td>blue</td>\n",
       "      <td>19BBY</td>\n",
       "      <td>male</td>\n",
       "      <td>Tatooine</td>\n",
       "      <td>Human</td>\n",
       "    </tr>\n",
       "    <tr>\n",
       "      <th>1</th>\n",
       "      <td>C-3PO</td>\n",
       "      <td>167.0</td>\n",
       "      <td>75.0</td>\n",
       "      <td>no hair</td>\n",
       "      <td>gold</td>\n",
       "      <td>yellow</td>\n",
       "      <td>112BBY</td>\n",
       "      <td>no gender</td>\n",
       "      <td>Tatooine</td>\n",
       "      <td>Droid</td>\n",
       "    </tr>\n",
       "    <tr>\n",
       "      <th>2</th>\n",
       "      <td>R2-D2</td>\n",
       "      <td>96.0</td>\n",
       "      <td>32.0</td>\n",
       "      <td>no hair</td>\n",
       "      <td>white, blue</td>\n",
       "      <td>red</td>\n",
       "      <td>33BBY</td>\n",
       "      <td>no gender</td>\n",
       "      <td>Naboo</td>\n",
       "      <td>Droid</td>\n",
       "    </tr>\n",
       "    <tr>\n",
       "      <th>3</th>\n",
       "      <td>Darth Vader</td>\n",
       "      <td>202.0</td>\n",
       "      <td>136.0</td>\n",
       "      <td>none</td>\n",
       "      <td>white</td>\n",
       "      <td>yellow</td>\n",
       "      <td>41.9BBY</td>\n",
       "      <td>male</td>\n",
       "      <td>Tatooine</td>\n",
       "      <td>Human</td>\n",
       "    </tr>\n",
       "    <tr>\n",
       "      <th>4</th>\n",
       "      <td>Leia Organa</td>\n",
       "      <td>150.0</td>\n",
       "      <td>49.0</td>\n",
       "      <td>brown</td>\n",
       "      <td>light</td>\n",
       "      <td>brown</td>\n",
       "      <td>19BBY</td>\n",
       "      <td>female</td>\n",
       "      <td>Alderaan</td>\n",
       "      <td>Human</td>\n",
       "    </tr>\n",
       "    <tr>\n",
       "      <th>...</th>\n",
       "      <td>...</td>\n",
       "      <td>...</td>\n",
       "      <td>...</td>\n",
       "      <td>...</td>\n",
       "      <td>...</td>\n",
       "      <td>...</td>\n",
       "      <td>...</td>\n",
       "      <td>...</td>\n",
       "      <td>...</td>\n",
       "      <td>...</td>\n",
       "    </tr>\n",
       "    <tr>\n",
       "      <th>82</th>\n",
       "      <td>Rey</td>\n",
       "      <td>NaN</td>\n",
       "      <td>NaN</td>\n",
       "      <td>brown</td>\n",
       "      <td>light</td>\n",
       "      <td>hazel</td>\n",
       "      <td>NaN</td>\n",
       "      <td>female</td>\n",
       "      <td>NaN</td>\n",
       "      <td>Human</td>\n",
       "    </tr>\n",
       "    <tr>\n",
       "      <th>83</th>\n",
       "      <td>Poe Dameron</td>\n",
       "      <td>NaN</td>\n",
       "      <td>NaN</td>\n",
       "      <td>brown</td>\n",
       "      <td>light</td>\n",
       "      <td>brown</td>\n",
       "      <td>NaN</td>\n",
       "      <td>male</td>\n",
       "      <td>NaN</td>\n",
       "      <td>Human</td>\n",
       "    </tr>\n",
       "    <tr>\n",
       "      <th>84</th>\n",
       "      <td>BB8</td>\n",
       "      <td>NaN</td>\n",
       "      <td>NaN</td>\n",
       "      <td>no hair</td>\n",
       "      <td>none</td>\n",
       "      <td>black</td>\n",
       "      <td>NaN</td>\n",
       "      <td>none</td>\n",
       "      <td>NaN</td>\n",
       "      <td>Droid</td>\n",
       "    </tr>\n",
       "    <tr>\n",
       "      <th>85</th>\n",
       "      <td>Captain Phasma</td>\n",
       "      <td>NaN</td>\n",
       "      <td>NaN</td>\n",
       "      <td>none</td>\n",
       "      <td>NaN</td>\n",
       "      <td>NaN</td>\n",
       "      <td>NaN</td>\n",
       "      <td>female</td>\n",
       "      <td>NaN</td>\n",
       "      <td>NaN</td>\n",
       "    </tr>\n",
       "    <tr>\n",
       "      <th>86</th>\n",
       "      <td>PadmÃ© Amidala</td>\n",
       "      <td>165.0</td>\n",
       "      <td>45.0</td>\n",
       "      <td>brown</td>\n",
       "      <td>light</td>\n",
       "      <td>brown</td>\n",
       "      <td>46BBY</td>\n",
       "      <td>female</td>\n",
       "      <td>Naboo</td>\n",
       "      <td>Human</td>\n",
       "    </tr>\n",
       "  </tbody>\n",
       "</table>\n",
       "<p>87 rows × 10 columns</p>\n",
       "</div>"
      ],
      "text/plain": [
       "              name  height   mass hair_color   skin_color eye_color  \\\n",
       "0   Luke Skywalker   172.0   77.0      blond         fair      blue   \n",
       "1            C-3PO   167.0   75.0    no hair         gold    yellow   \n",
       "2            R2-D2    96.0   32.0    no hair  white, blue       red   \n",
       "3      Darth Vader   202.0  136.0       none        white    yellow   \n",
       "4      Leia Organa   150.0   49.0      brown        light     brown   \n",
       "..             ...     ...    ...        ...          ...       ...   \n",
       "82             Rey     NaN    NaN      brown        light     hazel   \n",
       "83     Poe Dameron     NaN    NaN      brown        light     brown   \n",
       "84             BB8     NaN    NaN    no hair         none     black   \n",
       "85  Captain Phasma     NaN    NaN       none          NaN       NaN   \n",
       "86  PadmÃ© Amidala   165.0   45.0      brown        light     brown   \n",
       "\n",
       "   birth_year     gender homeworld species  \n",
       "0       19BBY       male  Tatooine   Human  \n",
       "1      112BBY  no gender  Tatooine   Droid  \n",
       "2       33BBY  no gender     Naboo   Droid  \n",
       "3     41.9BBY       male  Tatooine   Human  \n",
       "4       19BBY     female  Alderaan   Human  \n",
       "..        ...        ...       ...     ...  \n",
       "82        NaN     female       NaN   Human  \n",
       "83        NaN       male       NaN   Human  \n",
       "84        NaN       none       NaN   Droid  \n",
       "85        NaN     female       NaN     NaN  \n",
       "86      46BBY     female     Naboo   Human  \n",
       "\n",
       "[87 rows x 10 columns]"
      ]
     },
     "execution_count": 78,
     "metadata": {},
     "output_type": "execute_result"
    }
   ],
   "source": [
    "df = pd.read_excel('Star_Wars_characters.xlsx')\n",
    "df"
   ]
  },
  {
   "cell_type": "code",
   "execution_count": 3,
   "id": "434b441d-1131-42e6-8a86-5c637b468901",
   "metadata": {},
   "outputs": [
    {
     "data": {
      "text/html": [
       "<div>\n",
       "<style scoped>\n",
       "    .dataframe tbody tr th:only-of-type {\n",
       "        vertical-align: middle;\n",
       "    }\n",
       "\n",
       "    .dataframe tbody tr th {\n",
       "        vertical-align: top;\n",
       "    }\n",
       "\n",
       "    .dataframe thead th {\n",
       "        text-align: right;\n",
       "    }\n",
       "</style>\n",
       "<table border=\"1\" class=\"dataframe\">\n",
       "  <thead>\n",
       "    <tr style=\"text-align: right;\">\n",
       "      <th></th>\n",
       "      <th>name</th>\n",
       "      <th>height</th>\n",
       "      <th>mass</th>\n",
       "      <th>hair_color</th>\n",
       "      <th>skin_color</th>\n",
       "      <th>eye_color</th>\n",
       "      <th>birth_year</th>\n",
       "      <th>gender</th>\n",
       "      <th>homeworld</th>\n",
       "      <th>species</th>\n",
       "    </tr>\n",
       "  </thead>\n",
       "  <tbody>\n",
       "    <tr>\n",
       "      <th>0</th>\n",
       "      <td>Luke Skywalker</td>\n",
       "      <td>172.0</td>\n",
       "      <td>77.0</td>\n",
       "      <td>blond</td>\n",
       "      <td>fair</td>\n",
       "      <td>blue</td>\n",
       "      <td>19BBY</td>\n",
       "      <td>male</td>\n",
       "      <td>Tatooine</td>\n",
       "      <td>Human</td>\n",
       "    </tr>\n",
       "    <tr>\n",
       "      <th>1</th>\n",
       "      <td>C-3PO</td>\n",
       "      <td>167.0</td>\n",
       "      <td>75.0</td>\n",
       "      <td>no hair</td>\n",
       "      <td>gold</td>\n",
       "      <td>yellow</td>\n",
       "      <td>112BBY</td>\n",
       "      <td>no gender</td>\n",
       "      <td>Tatooine</td>\n",
       "      <td>Droid</td>\n",
       "    </tr>\n",
       "    <tr>\n",
       "      <th>2</th>\n",
       "      <td>R2-D2</td>\n",
       "      <td>96.0</td>\n",
       "      <td>32.0</td>\n",
       "      <td>no hair</td>\n",
       "      <td>white, blue</td>\n",
       "      <td>red</td>\n",
       "      <td>33BBY</td>\n",
       "      <td>no gender</td>\n",
       "      <td>Naboo</td>\n",
       "      <td>Droid</td>\n",
       "    </tr>\n",
       "    <tr>\n",
       "      <th>3</th>\n",
       "      <td>Darth Vader</td>\n",
       "      <td>202.0</td>\n",
       "      <td>136.0</td>\n",
       "      <td>none</td>\n",
       "      <td>white</td>\n",
       "      <td>yellow</td>\n",
       "      <td>41.9BBY</td>\n",
       "      <td>male</td>\n",
       "      <td>Tatooine</td>\n",
       "      <td>Human</td>\n",
       "    </tr>\n",
       "    <tr>\n",
       "      <th>4</th>\n",
       "      <td>Leia Organa</td>\n",
       "      <td>150.0</td>\n",
       "      <td>49.0</td>\n",
       "      <td>brown</td>\n",
       "      <td>light</td>\n",
       "      <td>brown</td>\n",
       "      <td>19BBY</td>\n",
       "      <td>female</td>\n",
       "      <td>Alderaan</td>\n",
       "      <td>Human</td>\n",
       "    </tr>\n",
       "  </tbody>\n",
       "</table>\n",
       "</div>"
      ],
      "text/plain": [
       "             name  height   mass hair_color   skin_color eye_color birth_year  \\\n",
       "0  Luke Skywalker   172.0   77.0      blond         fair      blue      19BBY   \n",
       "1           C-3PO   167.0   75.0    no hair         gold    yellow     112BBY   \n",
       "2           R2-D2    96.0   32.0    no hair  white, blue       red      33BBY   \n",
       "3     Darth Vader   202.0  136.0       none        white    yellow    41.9BBY   \n",
       "4     Leia Organa   150.0   49.0      brown        light     brown      19BBY   \n",
       "\n",
       "      gender homeworld species  \n",
       "0       male  Tatooine   Human  \n",
       "1  no gender  Tatooine   Droid  \n",
       "2  no gender     Naboo   Droid  \n",
       "3       male  Tatooine   Human  \n",
       "4     female  Alderaan   Human  "
      ]
     },
     "execution_count": 3,
     "metadata": {},
     "output_type": "execute_result"
    }
   ],
   "source": [
    "df.head()"
   ]
  },
  {
   "cell_type": "code",
   "execution_count": 4,
   "id": "969c370c-a9af-4a9b-8614-dc0ceee3fbde",
   "metadata": {},
   "outputs": [
    {
     "name": "stdout",
     "output_type": "stream",
     "text": [
      "<class 'pandas.core.frame.DataFrame'>\n",
      "RangeIndex: 87 entries, 0 to 86\n",
      "Data columns (total 10 columns):\n",
      " #   Column      Non-Null Count  Dtype  \n",
      "---  ------      --------------  -----  \n",
      " 0   name        87 non-null     object \n",
      " 1   height      81 non-null     float64\n",
      " 2   mass        59 non-null     float64\n",
      " 3   hair_color  87 non-null     object \n",
      " 4   skin_color  85 non-null     object \n",
      " 5   eye_color   84 non-null     object \n",
      " 6   birth_year  43 non-null     object \n",
      " 7   gender      87 non-null     object \n",
      " 8   homeworld   77 non-null     object \n",
      " 9   species     82 non-null     object \n",
      "dtypes: float64(2), object(8)\n",
      "memory usage: 6.9+ KB\n"
     ]
    }
   ],
   "source": [
    "df.info()"
   ]
  },
  {
   "cell_type": "markdown",
   "id": "fadf3f85-f596-4c3a-90c1-459fcdbc7e07",
   "metadata": {},
   "source": [
    "## Task_1 Plotting the Star Wars Characters by gender"
   ]
  },
  {
   "cell_type": "markdown",
   "id": "aa517ea1-e60b-4b24-84d0-ff7daa4dd1f1",
   "metadata": {},
   "source": [
    "### - with matplotlib"
   ]
  },
  {
   "cell_type": "code",
   "execution_count": 32,
   "id": "a03255f2-9e48-4674-9fca-13d3deca398e",
   "metadata": {},
   "outputs": [
    {
     "data": {
      "text/plain": [
       "gender\n",
       "male             62\n",
       "female           19\n",
       "no gender         3\n",
       "none              2\n",
       "hermaphrodite     1\n",
       "Name: count, dtype: int64"
      ]
     },
     "metadata": {},
     "output_type": "display_data"
    },
    {
     "data": {
      "image/png": "[encoded data removed]",
      "text/plain": [
       "<Figure size 640x480 with 1 Axes>"
      ]
     },
     "metadata": {},
     "output_type": "display_data"
    }
   ],
   "source": [
    "x = df.gender.value_counts()\n",
    "display(x)\n",
    "\n",
    "fig, ax = plt.subplots()\n",
    "ax.bar(data=df, x=x.index, height=x.values)\n",
    "ax.set_title('Gender Distibution')\n",
    "\n",
    "for patch in ax.patches:\n",
    "    plt.annotate(text=round(patch.get_height()), xy=(patch.get_x()+0.4, patch.get_height()-1), ha='center')"
   ]
  },
  {
   "cell_type": "markdown",
   "id": "7fcd9cc1-0637-4f57-aa45-b0d090d8e4c1",
   "metadata": {},
   "source": [
    "### - with pandas"
   ]
  },
  {
   "cell_type": "code",
   "execution_count": 46,
   "id": "36d72bad-60f3-4036-a53c-5b6301b9eaf6",
   "metadata": {},
   "outputs": [
    {
     "name": "stdout",
     "output_type": "stream",
     "text": [
      "width of each bar: 0.5\n"
     ]
    }
   ],
   "source": [
    "print(f'width of each bar: {ax.patches[0].get_width()}')"
   ]
  },
  {
   "cell_type": "code",
   "execution_count": 45,
   "id": "3a55d8ad-4c6d-4335-a088-27bdc885580f",
   "metadata": {},
   "outputs": [
    {
     "data": {
      "image/png": "[encoded data removed]",
      "text/plain": [
       "<Figure size 640x480 with 1 Axes>"
      ]
     },
     "metadata": {},
     "output_type": "display_data"
    }
   ],
   "source": [
    "fig, ax = plt.subplots()\n",
    "ax = df.gender.value_counts().plot(kind='bar', xlabel='gender', title='Gender Distribution');\n",
    "\n",
    "for patch in ax.patches:\n",
    "    plt.annotate(text=round(patch.get_height()), xy=(patch.get_x()+0.25, patch.get_height()-1), ha='center')"
   ]
  },
  {
   "cell_type": "markdown",
   "id": "cacde983-78be-4286-a45f-e38c6e34f7b3",
   "metadata": {},
   "source": [
    "## Task_2 Plotting the Characters by eye color"
   ]
  },
  {
   "cell_type": "code",
   "execution_count": 47,
   "id": "18ab3fd3-e74a-43a1-b992-e721a170a684",
   "metadata": {},
   "outputs": [
    {
     "data": {
      "text/html": [
       "<div>\n",
       "<style scoped>\n",
       "    .dataframe tbody tr th:only-of-type {\n",
       "        vertical-align: middle;\n",
       "    }\n",
       "\n",
       "    .dataframe tbody tr th {\n",
       "        vertical-align: top;\n",
       "    }\n",
       "\n",
       "    .dataframe thead th {\n",
       "        text-align: right;\n",
       "    }\n",
       "</style>\n",
       "<table border=\"1\" class=\"dataframe\">\n",
       "  <thead>\n",
       "    <tr style=\"text-align: right;\">\n",
       "      <th></th>\n",
       "      <th>name</th>\n",
       "      <th>height</th>\n",
       "      <th>mass</th>\n",
       "      <th>hair_color</th>\n",
       "      <th>skin_color</th>\n",
       "      <th>eye_color</th>\n",
       "      <th>birth_year</th>\n",
       "      <th>gender</th>\n",
       "      <th>homeworld</th>\n",
       "      <th>species</th>\n",
       "    </tr>\n",
       "  </thead>\n",
       "  <tbody>\n",
       "    <tr>\n",
       "      <th>0</th>\n",
       "      <td>Luke Skywalker</td>\n",
       "      <td>172.0</td>\n",
       "      <td>77.0</td>\n",
       "      <td>blond</td>\n",
       "      <td>fair</td>\n",
       "      <td>blue</td>\n",
       "      <td>19BBY</td>\n",
       "      <td>male</td>\n",
       "      <td>Tatooine</td>\n",
       "      <td>Human</td>\n",
       "    </tr>\n",
       "    <tr>\n",
       "      <th>1</th>\n",
       "      <td>C-3PO</td>\n",
       "      <td>167.0</td>\n",
       "      <td>75.0</td>\n",
       "      <td>no hair</td>\n",
       "      <td>gold</td>\n",
       "      <td>yellow</td>\n",
       "      <td>112BBY</td>\n",
       "      <td>no gender</td>\n",
       "      <td>Tatooine</td>\n",
       "      <td>Droid</td>\n",
       "    </tr>\n",
       "    <tr>\n",
       "      <th>2</th>\n",
       "      <td>R2-D2</td>\n",
       "      <td>96.0</td>\n",
       "      <td>32.0</td>\n",
       "      <td>no hair</td>\n",
       "      <td>white, blue</td>\n",
       "      <td>red</td>\n",
       "      <td>33BBY</td>\n",
       "      <td>no gender</td>\n",
       "      <td>Naboo</td>\n",
       "      <td>Droid</td>\n",
       "    </tr>\n",
       "    <tr>\n",
       "      <th>3</th>\n",
       "      <td>Darth Vader</td>\n",
       "      <td>202.0</td>\n",
       "      <td>136.0</td>\n",
       "      <td>none</td>\n",
       "      <td>white</td>\n",
       "      <td>yellow</td>\n",
       "      <td>41.9BBY</td>\n",
       "      <td>male</td>\n",
       "      <td>Tatooine</td>\n",
       "      <td>Human</td>\n",
       "    </tr>\n",
       "    <tr>\n",
       "      <th>4</th>\n",
       "      <td>Leia Organa</td>\n",
       "      <td>150.0</td>\n",
       "      <td>49.0</td>\n",
       "      <td>brown</td>\n",
       "      <td>light</td>\n",
       "      <td>brown</td>\n",
       "      <td>19BBY</td>\n",
       "      <td>female</td>\n",
       "      <td>Alderaan</td>\n",
       "      <td>Human</td>\n",
       "    </tr>\n",
       "  </tbody>\n",
       "</table>\n",
       "</div>"
      ],
      "text/plain": [
       "             name  height   mass hair_color   skin_color eye_color birth_year  \\\n",
       "0  Luke Skywalker   172.0   77.0      blond         fair      blue      19BBY   \n",
       "1           C-3PO   167.0   75.0    no hair         gold    yellow     112BBY   \n",
       "2           R2-D2    96.0   32.0    no hair  white, blue       red      33BBY   \n",
       "3     Darth Vader   202.0  136.0       none        white    yellow    41.9BBY   \n",
       "4     Leia Organa   150.0   49.0      brown        light     brown      19BBY   \n",
       "\n",
       "      gender homeworld species  \n",
       "0       male  Tatooine   Human  \n",
       "1  no gender  Tatooine   Droid  \n",
       "2  no gender     Naboo   Droid  \n",
       "3       male  Tatooine   Human  \n",
       "4     female  Alderaan   Human  "
      ]
     },
     "execution_count": 47,
     "metadata": {},
     "output_type": "execute_result"
    }
   ],
   "source": [
    "df.head()"
   ]
  },
  {
   "cell_type": "code",
   "execution_count": 48,
   "id": "05f8ce27-94fc-4e78-bf0d-4bd35c21e98e",
   "metadata": {},
   "outputs": [
    {
     "data": {
      "text/plain": [
       "eye_color\n",
       "brown            21\n",
       "blue             19\n",
       "yellow           11\n",
       "black            10\n",
       "orange            8\n",
       "red               5\n",
       "hazel             3\n",
       "blue-gray         1\n",
       "pink              1\n",
       "red, blue         1\n",
       "gold              1\n",
       "green, yellow     1\n",
       "white             1\n",
       "dark              1\n",
       "Name: count, dtype: int64"
      ]
     },
     "execution_count": 48,
     "metadata": {},
     "output_type": "execute_result"
    }
   ],
   "source": [
    "df.eye_color.value_counts()"
   ]
  },
  {
   "cell_type": "markdown",
   "id": "3f11593b-f8eb-4df4-8e86-e37ecd6c00b8",
   "metadata": {},
   "source": [
    "### - with matplotlib"
   ]
  },
  {
   "cell_type": "code",
   "execution_count": 59,
   "id": "0942e234-0a1f-40e3-862c-8e4c2a83d98e",
   "metadata": {},
   "outputs": [
    {
     "data": {
      "image/png": "[encoded data removed]",
      "text/plain": [
       "<Figure size 640x480 with 1 Axes>"
      ]
     },
     "metadata": {},
     "output_type": "display_data"
    }
   ],
   "source": [
    "fig, ax = plt.subplots()\n",
    "ax.bar(data=df, x=df.eye_color.value_counts().index, height=df.eye_color.value_counts().values)\n",
    "plt.xticks(rotation=90);\n",
    "\n",
    "for patch in ax.patches:\n",
    "    plt.annotate(text=round(patch.get_height()), xy=(patch.get_x()+0.4, patch.get_height()), ha='center')"
   ]
  },
  {
   "cell_type": "markdown",
   "id": "324ecbb5-21ab-43fc-8431-f4f36213f405",
   "metadata": {},
   "source": [
    "### - with pandas"
   ]
  },
  {
   "cell_type": "code",
   "execution_count": 67,
   "id": "414d6150-2dae-4e8f-87d4-a319490930be",
   "metadata": {},
   "outputs": [
    {
     "data": {
      "image/png": "[encoded data removed]",
      "text/plain": [
       "<Figure size 640x480 with 1 Axes>"
      ]
     },
     "metadata": {},
     "output_type": "display_data"
    }
   ],
   "source": [
    "fig, ax = plt.subplots()\n",
    "ax = df.eye_color.value_counts().plot(kind='bar', xlabel='eye_color')\n",
    "plt.xticks(rotation=45);\n",
    "\n",
    "for patch in ax.patches:\n",
    "    plt.annotate(text=round(patch.get_height()), xy=(patch.get_x()+0.25, patch.get_height()+0.2), ha='center')"
   ]
  },
  {
   "cell_type": "markdown",
   "id": "be21c29e-0ce6-4936-a6da-fcbbbf189246",
   "metadata": {},
   "source": [
    "## Task_3 - Plotting the MASS unde 3 groups: \"High_mass\", \"Normal_mass\", \"Low_mass\""
   ]
  },
  {
   "cell_type": "raw",
   "id": "40cedb49-24ae-4cf3-b96d-aea65c4134fd",
   "metadata": {},
   "source": [
    "Note: \n",
    "\"High_mass    >=100.0\n",
    "\"Normal_mass  >50.0  <100.0 \n",
    "\"Low_mass     <=50"
   ]
  },
  {
   "cell_type": "code",
   "execution_count": 72,
   "id": "94b780bb-0de9-436c-8d6b-ee825f275d3b",
   "metadata": {},
   "outputs": [
    {
     "data": {
      "text/html": [
       "<div>\n",
       "<style scoped>\n",
       "    .dataframe tbody tr th:only-of-type {\n",
       "        vertical-align: middle;\n",
       "    }\n",
       "\n",
       "    .dataframe tbody tr th {\n",
       "        vertical-align: top;\n",
       "    }\n",
       "\n",
       "    .dataframe thead th {\n",
       "        text-align: right;\n",
       "    }\n",
       "</style>\n",
       "<table border=\"1\" class=\"dataframe\">\n",
       "  <thead>\n",
       "    <tr style=\"text-align: right;\">\n",
       "      <th></th>\n",
       "      <th>name</th>\n",
       "      <th>height</th>\n",
       "      <th>mass</th>\n",
       "      <th>hair_color</th>\n",
       "      <th>skin_color</th>\n",
       "      <th>eye_color</th>\n",
       "      <th>birth_year</th>\n",
       "      <th>gender</th>\n",
       "      <th>homeworld</th>\n",
       "      <th>species</th>\n",
       "    </tr>\n",
       "  </thead>\n",
       "  <tbody>\n",
       "    <tr>\n",
       "      <th>0</th>\n",
       "      <td>Luke Skywalker</td>\n",
       "      <td>172.0</td>\n",
       "      <td>77.0</td>\n",
       "      <td>blond</td>\n",
       "      <td>fair</td>\n",
       "      <td>blue</td>\n",
       "      <td>19BBY</td>\n",
       "      <td>male</td>\n",
       "      <td>Tatooine</td>\n",
       "      <td>Human</td>\n",
       "    </tr>\n",
       "    <tr>\n",
       "      <th>1</th>\n",
       "      <td>C-3PO</td>\n",
       "      <td>167.0</td>\n",
       "      <td>75.0</td>\n",
       "      <td>no hair</td>\n",
       "      <td>gold</td>\n",
       "      <td>yellow</td>\n",
       "      <td>112BBY</td>\n",
       "      <td>no gender</td>\n",
       "      <td>Tatooine</td>\n",
       "      <td>Droid</td>\n",
       "    </tr>\n",
       "    <tr>\n",
       "      <th>2</th>\n",
       "      <td>R2-D2</td>\n",
       "      <td>96.0</td>\n",
       "      <td>32.0</td>\n",
       "      <td>no hair</td>\n",
       "      <td>white, blue</td>\n",
       "      <td>red</td>\n",
       "      <td>33BBY</td>\n",
       "      <td>no gender</td>\n",
       "      <td>Naboo</td>\n",
       "      <td>Droid</td>\n",
       "    </tr>\n",
       "    <tr>\n",
       "      <th>3</th>\n",
       "      <td>Darth Vader</td>\n",
       "      <td>202.0</td>\n",
       "      <td>136.0</td>\n",
       "      <td>none</td>\n",
       "      <td>white</td>\n",
       "      <td>yellow</td>\n",
       "      <td>41.9BBY</td>\n",
       "      <td>male</td>\n",
       "      <td>Tatooine</td>\n",
       "      <td>Human</td>\n",
       "    </tr>\n",
       "    <tr>\n",
       "      <th>4</th>\n",
       "      <td>Leia Organa</td>\n",
       "      <td>150.0</td>\n",
       "      <td>49.0</td>\n",
       "      <td>brown</td>\n",
       "      <td>light</td>\n",
       "      <td>brown</td>\n",
       "      <td>19BBY</td>\n",
       "      <td>female</td>\n",
       "      <td>Alderaan</td>\n",
       "      <td>Human</td>\n",
       "    </tr>\n",
       "  </tbody>\n",
       "</table>\n",
       "</div>"
      ],
      "text/plain": [
       "             name  height   mass hair_color   skin_color eye_color birth_year  \\\n",
       "0  Luke Skywalker   172.0   77.0      blond         fair      blue      19BBY   \n",
       "1           C-3PO   167.0   75.0    no hair         gold    yellow     112BBY   \n",
       "2           R2-D2    96.0   32.0    no hair  white, blue       red      33BBY   \n",
       "3     Darth Vader   202.0  136.0       none        white    yellow    41.9BBY   \n",
       "4     Leia Organa   150.0   49.0      brown        light     brown      19BBY   \n",
       "\n",
       "      gender homeworld species  \n",
       "0       male  Tatooine   Human  \n",
       "1  no gender  Tatooine   Droid  \n",
       "2  no gender     Naboo   Droid  \n",
       "3       male  Tatooine   Human  \n",
       "4     female  Alderaan   Human  "
      ]
     },
     "execution_count": 72,
     "metadata": {},
     "output_type": "execute_result"
    }
   ],
   "source": [
    "df.head()"
   ]
  },
  {
   "cell_type": "code",
   "execution_count": 79,
   "id": "59c1eabe-2eb2-4ffc-806c-0f103468effe",
   "metadata": {},
   "outputs": [],
   "source": [
    "def mass_category(x):\n",
    "    if x >= 100:\n",
    "        return 'High_mass'\n",
    "    elif (x > 50) and (x < 100):\n",
    "        return 'Normal_mass'\n",
    "    elif x <= 50:\n",
    "        return 'Low_mass'\n",
    "\n",
    "df['mass_category'] = df.mass.apply(mass_category)"
   ]
  },
  {
   "cell_type": "code",
   "execution_count": 80,
   "id": "e352aa1f-90e6-4ab5-b5e6-df045aba446d",
   "metadata": {},
   "outputs": [
    {
     "data": {
      "text/html": [
       "<div>\n",
       "<style scoped>\n",
       "    .dataframe tbody tr th:only-of-type {\n",
       "        vertical-align: middle;\n",
       "    }\n",
       "\n",
       "    .dataframe tbody tr th {\n",
       "        vertical-align: top;\n",
       "    }\n",
       "\n",
       "    .dataframe thead th {\n",
       "        text-align: right;\n",
       "    }\n",
       "</style>\n",
       "<table border=\"1\" class=\"dataframe\">\n",
       "  <thead>\n",
       "    <tr style=\"text-align: right;\">\n",
       "      <th></th>\n",
       "      <th>name</th>\n",
       "      <th>height</th>\n",
       "      <th>mass</th>\n",
       "      <th>hair_color</th>\n",
       "      <th>skin_color</th>\n",
       "      <th>eye_color</th>\n",
       "      <th>birth_year</th>\n",
       "      <th>gender</th>\n",
       "      <th>homeworld</th>\n",
       "      <th>species</th>\n",
       "      <th>mass_category</th>\n",
       "    </tr>\n",
       "  </thead>\n",
       "  <tbody>\n",
       "    <tr>\n",
       "      <th>0</th>\n",
       "      <td>Luke Skywalker</td>\n",
       "      <td>172.0</td>\n",
       "      <td>77.0</td>\n",
       "      <td>blond</td>\n",
       "      <td>fair</td>\n",
       "      <td>blue</td>\n",
       "      <td>19BBY</td>\n",
       "      <td>male</td>\n",
       "      <td>Tatooine</td>\n",
       "      <td>Human</td>\n",
       "      <td>Normal_mass</td>\n",
       "    </tr>\n",
       "    <tr>\n",
       "      <th>1</th>\n",
       "      <td>C-3PO</td>\n",
       "      <td>167.0</td>\n",
       "      <td>75.0</td>\n",
       "      <td>no hair</td>\n",
       "      <td>gold</td>\n",
       "      <td>yellow</td>\n",
       "      <td>112BBY</td>\n",
       "      <td>no gender</td>\n",
       "      <td>Tatooine</td>\n",
       "      <td>Droid</td>\n",
       "      <td>Normal_mass</td>\n",
       "    </tr>\n",
       "    <tr>\n",
       "      <th>2</th>\n",
       "      <td>R2-D2</td>\n",
       "      <td>96.0</td>\n",
       "      <td>32.0</td>\n",
       "      <td>no hair</td>\n",
       "      <td>white, blue</td>\n",
       "      <td>red</td>\n",
       "      <td>33BBY</td>\n",
       "      <td>no gender</td>\n",
       "      <td>Naboo</td>\n",
       "      <td>Droid</td>\n",
       "      <td>Low_mass</td>\n",
       "    </tr>\n",
       "    <tr>\n",
       "      <th>3</th>\n",
       "      <td>Darth Vader</td>\n",
       "      <td>202.0</td>\n",
       "      <td>136.0</td>\n",
       "      <td>none</td>\n",
       "      <td>white</td>\n",
       "      <td>yellow</td>\n",
       "      <td>41.9BBY</td>\n",
       "      <td>male</td>\n",
       "      <td>Tatooine</td>\n",
       "      <td>Human</td>\n",
       "      <td>High_mass</td>\n",
       "    </tr>\n",
       "    <tr>\n",
       "      <th>4</th>\n",
       "      <td>Leia Organa</td>\n",
       "      <td>150.0</td>\n",
       "      <td>49.0</td>\n",
       "      <td>brown</td>\n",
       "      <td>light</td>\n",
       "      <td>brown</td>\n",
       "      <td>19BBY</td>\n",
       "      <td>female</td>\n",
       "      <td>Alderaan</td>\n",
       "      <td>Human</td>\n",
       "      <td>Low_mass</td>\n",
       "    </tr>\n",
       "  </tbody>\n",
       "</table>\n",
       "</div>"
      ],
      "text/plain": [
       "             name  height   mass hair_color   skin_color eye_color birth_year  \\\n",
       "0  Luke Skywalker   172.0   77.0      blond         fair      blue      19BBY   \n",
       "1           C-3PO   167.0   75.0    no hair         gold    yellow     112BBY   \n",
       "2           R2-D2    96.0   32.0    no hair  white, blue       red      33BBY   \n",
       "3     Darth Vader   202.0  136.0       none        white    yellow    41.9BBY   \n",
       "4     Leia Organa   150.0   49.0      brown        light     brown      19BBY   \n",
       "\n",
       "      gender homeworld species mass_category  \n",
       "0       male  Tatooine   Human   Normal_mass  \n",
       "1  no gender  Tatooine   Droid   Normal_mass  \n",
       "2  no gender     Naboo   Droid      Low_mass  \n",
       "3       male  Tatooine   Human     High_mass  \n",
       "4     female  Alderaan   Human      Low_mass  "
      ]
     },
     "execution_count": 80,
     "metadata": {},
     "output_type": "execute_result"
    }
   ],
   "source": [
    "df.head()"
   ]
  },
  {
   "cell_type": "code",
   "execution_count": 83,
   "id": "5ed4e6b5-b670-47c4-ad30-5e1d93c5e019",
   "metadata": {},
   "outputs": [
    {
     "data": {
      "text/plain": [
       "mass_category\n",
       "Normal_mass    36\n",
       "None           28\n",
       "Low_mass       13\n",
       "High_mass      10\n",
       "Name: count, dtype: int64"
      ]
     },
     "execution_count": 83,
     "metadata": {},
     "output_type": "execute_result"
    }
   ],
   "source": [
    "df.mass_category.value_counts(dropna=False)"
   ]
  },
  {
   "cell_type": "markdown",
   "id": "e351dd0e-8d18-4f05-93ad-4affcfc7fedf",
   "metadata": {},
   "source": [
    "### - with matplotlib"
   ]
  },
  {
   "cell_type": "code",
   "execution_count": 84,
   "id": "09de9896-de77-4cf5-a3d4-158f5c364f01",
   "metadata": {},
   "outputs": [],
   "source": [
    "x = df.mass_category.value_counts()"
   ]
  },
  {
   "cell_type": "code",
   "execution_count": 89,
   "id": "3724c2a7-909a-4435-a550-1b3dfe3fb026",
   "metadata": {},
   "outputs": [
    {
     "data": {
      "image/png": "[encoded data removed]",
      "text/plain": [
       "<Figure size 640x480 with 1 Axes>"
      ]
     },
     "metadata": {},
     "output_type": "display_data"
    }
   ],
   "source": [
    "fig, ax = plt.subplots()\n",
    "ax.bar(data=df, x=x.index, height=x.values)\n",
    "\n",
    "for patch in ax.patches:\n",
    "    plt.annotate(text=round(patch.get_height()), xy=(patch.get_x()+0.4, patch.get_height()+0.2), ha='center')"
   ]
  },
  {
   "cell_type": "markdown",
   "id": "0b331f01-73f2-4a6c-87ee-2989b9c8077b",
   "metadata": {},
   "source": [
    "### - with pandas"
   ]
  },
  {
   "cell_type": "code",
   "execution_count": 94,
   "id": "8797fc8c-87ff-4b62-83c1-587381317da4",
   "metadata": {},
   "outputs": [
    {
     "data": {
      "image/png": "[encoded data removed]",
      "text/plain": [
       "<Figure size 640x480 with 1 Axes>"
      ]
     },
     "metadata": {},
     "output_type": "display_data"
    }
   ],
   "source": [
    "fig, ax = plt.subplots()\n",
    "ax = df.mass_category.value_counts().plot(kind='bar', xlabel='mass_cat')\n",
    "\n",
    "for patch in ax.patches:\n",
    "    plt.annotate(text=round(patch.get_height()), xy=(patch.get_x()+0.25, patch.get_height()+0.2), ha='center')"
   ]
  },
  {
   "cell_type": "markdown",
   "id": "e24840c2-eb69-4956-9cee-b36ee0f2ffa7",
   "metadata": {},
   "source": [
    "## Task_4 - Plotting the species Top 5"
   ]
  },
  {
   "cell_type": "code",
   "execution_count": 95,
   "id": "06634871-4d90-4a94-a024-2b5f64799a09",
   "metadata": {},
   "outputs": [
    {
     "data": {
      "text/html": [
       "<div>\n",
       "<style scoped>\n",
       "    .dataframe tbody tr th:only-of-type {\n",
       "        vertical-align: middle;\n",
       "    }\n",
       "\n",
       "    .dataframe tbody tr th {\n",
       "        vertical-align: top;\n",
       "    }\n",
       "\n",
       "    .dataframe thead th {\n",
       "        text-align: right;\n",
       "    }\n",
       "</style>\n",
       "<table border=\"1\" class=\"dataframe\">\n",
       "  <thead>\n",
       "    <tr style=\"text-align: right;\">\n",
       "      <th></th>\n",
       "      <th>name</th>\n",
       "      <th>height</th>\n",
       "      <th>mass</th>\n",
       "      <th>hair_color</th>\n",
       "      <th>skin_color</th>\n",
       "      <th>eye_color</th>\n",
       "      <th>birth_year</th>\n",
       "      <th>gender</th>\n",
       "      <th>homeworld</th>\n",
       "      <th>species</th>\n",
       "      <th>mass_category</th>\n",
       "    </tr>\n",
       "  </thead>\n",
       "  <tbody>\n",
       "    <tr>\n",
       "      <th>0</th>\n",
       "      <td>Luke Skywalker</td>\n",
       "      <td>172.0</td>\n",
       "      <td>77.0</td>\n",
       "      <td>blond</td>\n",
       "      <td>fair</td>\n",
       "      <td>blue</td>\n",
       "      <td>19BBY</td>\n",
       "      <td>male</td>\n",
       "      <td>Tatooine</td>\n",
       "      <td>Human</td>\n",
       "      <td>Normal_mass</td>\n",
       "    </tr>\n",
       "    <tr>\n",
       "      <th>1</th>\n",
       "      <td>C-3PO</td>\n",
       "      <td>167.0</td>\n",
       "      <td>75.0</td>\n",
       "      <td>no hair</td>\n",
       "      <td>gold</td>\n",
       "      <td>yellow</td>\n",
       "      <td>112BBY</td>\n",
       "      <td>no gender</td>\n",
       "      <td>Tatooine</td>\n",
       "      <td>Droid</td>\n",
       "      <td>Normal_mass</td>\n",
       "    </tr>\n",
       "    <tr>\n",
       "      <th>2</th>\n",
       "      <td>R2-D2</td>\n",
       "      <td>96.0</td>\n",
       "      <td>32.0</td>\n",
       "      <td>no hair</td>\n",
       "      <td>white, blue</td>\n",
       "      <td>red</td>\n",
       "      <td>33BBY</td>\n",
       "      <td>no gender</td>\n",
       "      <td>Naboo</td>\n",
       "      <td>Droid</td>\n",
       "      <td>Low_mass</td>\n",
       "    </tr>\n",
       "    <tr>\n",
       "      <th>3</th>\n",
       "      <td>Darth Vader</td>\n",
       "      <td>202.0</td>\n",
       "      <td>136.0</td>\n",
       "      <td>none</td>\n",
       "      <td>white</td>\n",
       "      <td>yellow</td>\n",
       "      <td>41.9BBY</td>\n",
       "      <td>male</td>\n",
       "      <td>Tatooine</td>\n",
       "      <td>Human</td>\n",
       "      <td>High_mass</td>\n",
       "    </tr>\n",
       "    <tr>\n",
       "      <th>4</th>\n",
       "      <td>Leia Organa</td>\n",
       "      <td>150.0</td>\n",
       "      <td>49.0</td>\n",
       "      <td>brown</td>\n",
       "      <td>light</td>\n",
       "      <td>brown</td>\n",
       "      <td>19BBY</td>\n",
       "      <td>female</td>\n",
       "      <td>Alderaan</td>\n",
       "      <td>Human</td>\n",
       "      <td>Low_mass</td>\n",
       "    </tr>\n",
       "  </tbody>\n",
       "</table>\n",
       "</div>"
      ],
      "text/plain": [
       "             name  height   mass hair_color   skin_color eye_color birth_year  \\\n",
       "0  Luke Skywalker   172.0   77.0      blond         fair      blue      19BBY   \n",
       "1           C-3PO   167.0   75.0    no hair         gold    yellow     112BBY   \n",
       "2           R2-D2    96.0   32.0    no hair  white, blue       red      33BBY   \n",
       "3     Darth Vader   202.0  136.0       none        white    yellow    41.9BBY   \n",
       "4     Leia Organa   150.0   49.0      brown        light     brown      19BBY   \n",
       "\n",
       "      gender homeworld species mass_category  \n",
       "0       male  Tatooine   Human   Normal_mass  \n",
       "1  no gender  Tatooine   Droid   Normal_mass  \n",
       "2  no gender     Naboo   Droid      Low_mass  \n",
       "3       male  Tatooine   Human     High_mass  \n",
       "4     female  Alderaan   Human      Low_mass  "
      ]
     },
     "execution_count": 95,
     "metadata": {},
     "output_type": "execute_result"
    }
   ],
   "source": [
    "df.head()"
   ]
  },
  {
   "cell_type": "code",
   "execution_count": 97,
   "id": "8328eb78-d83d-42b6-bf8a-3def2ebf2bcd",
   "metadata": {},
   "outputs": [
    {
     "data": {
      "text/plain": [
       "species\n",
       "Human       35\n",
       "Droid        5\n",
       "Gungan       3\n",
       "Mirialan     2\n",
       "Wookiee      2\n",
       "Name: count, dtype: int64"
      ]
     },
     "execution_count": 97,
     "metadata": {},
     "output_type": "execute_result"
    }
   ],
   "source": [
    "df.species.value_counts().head()"
   ]
  },
  {
   "cell_type": "markdown",
   "id": "a76daad1-d0e1-48a6-a8ce-5454ae2ce133",
   "metadata": {},
   "source": [
    "### - with matplotlib"
   ]
  },
  {
   "cell_type": "code",
   "execution_count": 98,
   "id": "6ca0b0fe-83d6-4ad7-8130-2787ba0ab029",
   "metadata": {},
   "outputs": [],
   "source": [
    "x = df.species.value_counts().head()"
   ]
  },
  {
   "cell_type": "code",
   "execution_count": 107,
   "id": "83db1a64-9c13-4c6f-9f01-4708e0e7a9cf",
   "metadata": {},
   "outputs": [
    {
     "data": {
      "image/png": "[encoded data removed]",
      "text/plain": [
       "<Figure size 640x480 with 1 Axes>"
      ]
     },
     "metadata": {},
     "output_type": "display_data"
    }
   ],
   "source": [
    "fig, ax = plt.subplots()\n",
    "ax.bar(data=df, x=x.index, height=x.values)\n",
    "ax.set_title('Species')\n",
    "\n",
    "for patch in ax.patches:\n",
    "    plt.annotate(text=round(patch.get_height()), xy=(patch.get_x()+0.4, patch.get_height()), ha='right')"
   ]
  },
  {
   "cell_type": "markdown",
   "id": "a285c4a5-760b-4906-af58-5787533d5201",
   "metadata": {},
   "source": [
    "### - with pandas"
   ]
  },
  {
   "cell_type": "code",
   "execution_count": 111,
   "id": "1093bd0a-9e21-4c53-941c-656db2aaaf94",
   "metadata": {},
   "outputs": [
    {
     "data": {
      "image/png": "[encoded data removed]",
      "text/plain": [
       "<Figure size 640x480 with 1 Axes>"
      ]
     },
     "metadata": {},
     "output_type": "display_data"
    }
   ],
   "source": [
    "fig, ax = plt.subplots()\n",
    "ax = df.species.value_counts().head().plot(kind='bar', title='Species', xlabel='species')\n",
    "\n",
    "for patch in ax.patches:\n",
    "    plt.annotate(text=round(patch.get_height()), xy=(patch.get_x()+0.25, patch.get_height()+0.2))"
   ]
  },
  {
   "cell_type": "markdown",
   "id": "ff4363ed-af97-4392-9d7f-c91ef00f3d3d",
   "metadata": {},
   "source": [
    "## Task_5 - Plotting the Characters by aged > 100 years with names"
   ]
  },
  {
   "cell_type": "code",
   "execution_count": 112,
   "id": "2db057ff-063d-49af-8c4f-823dc5dbac32",
   "metadata": {},
   "outputs": [
    {
     "data": {
      "text/html": [
       "<div>\n",
       "<style scoped>\n",
       "    .dataframe tbody tr th:only-of-type {\n",
       "        vertical-align: middle;\n",
       "    }\n",
       "\n",
       "    .dataframe tbody tr th {\n",
       "        vertical-align: top;\n",
       "    }\n",
       "\n",
       "    .dataframe thead th {\n",
       "        text-align: right;\n",
       "    }\n",
       "</style>\n",
       "<table border=\"1\" class=\"dataframe\">\n",
       "  <thead>\n",
       "    <tr style=\"text-align: right;\">\n",
       "      <th></th>\n",
       "      <th>name</th>\n",
       "      <th>height</th>\n",
       "      <th>mass</th>\n",
       "      <th>hair_color</th>\n",
       "      <th>skin_color</th>\n",
       "      <th>eye_color</th>\n",
       "      <th>birth_year</th>\n",
       "      <th>gender</th>\n",
       "      <th>homeworld</th>\n",
       "      <th>species</th>\n",
       "      <th>mass_category</th>\n",
       "    </tr>\n",
       "  </thead>\n",
       "  <tbody>\n",
       "    <tr>\n",
       "      <th>0</th>\n",
       "      <td>Luke Skywalker</td>\n",
       "      <td>172.0</td>\n",
       "      <td>77.0</td>\n",
       "      <td>blond</td>\n",
       "      <td>fair</td>\n",
       "      <td>blue</td>\n",
       "      <td>19BBY</td>\n",
       "      <td>male</td>\n",
       "      <td>Tatooine</td>\n",
       "      <td>Human</td>\n",
       "      <td>Normal_mass</td>\n",
       "    </tr>\n",
       "    <tr>\n",
       "      <th>1</th>\n",
       "      <td>C-3PO</td>\n",
       "      <td>167.0</td>\n",
       "      <td>75.0</td>\n",
       "      <td>no hair</td>\n",
       "      <td>gold</td>\n",
       "      <td>yellow</td>\n",
       "      <td>112BBY</td>\n",
       "      <td>no gender</td>\n",
       "      <td>Tatooine</td>\n",
       "      <td>Droid</td>\n",
       "      <td>Normal_mass</td>\n",
       "    </tr>\n",
       "    <tr>\n",
       "      <th>2</th>\n",
       "      <td>R2-D2</td>\n",
       "      <td>96.0</td>\n",
       "      <td>32.0</td>\n",
       "      <td>no hair</td>\n",
       "      <td>white, blue</td>\n",
       "      <td>red</td>\n",
       "      <td>33BBY</td>\n",
       "      <td>no gender</td>\n",
       "      <td>Naboo</td>\n",
       "      <td>Droid</td>\n",
       "      <td>Low_mass</td>\n",
       "    </tr>\n",
       "    <tr>\n",
       "      <th>3</th>\n",
       "      <td>Darth Vader</td>\n",
       "      <td>202.0</td>\n",
       "      <td>136.0</td>\n",
       "      <td>none</td>\n",
       "      <td>white</td>\n",
       "      <td>yellow</td>\n",
       "      <td>41.9BBY</td>\n",
       "      <td>male</td>\n",
       "      <td>Tatooine</td>\n",
       "      <td>Human</td>\n",
       "      <td>High_mass</td>\n",
       "    </tr>\n",
       "    <tr>\n",
       "      <th>4</th>\n",
       "      <td>Leia Organa</td>\n",
       "      <td>150.0</td>\n",
       "      <td>49.0</td>\n",
       "      <td>brown</td>\n",
       "      <td>light</td>\n",
       "      <td>brown</td>\n",
       "      <td>19BBY</td>\n",
       "      <td>female</td>\n",
       "      <td>Alderaan</td>\n",
       "      <td>Human</td>\n",
       "      <td>Low_mass</td>\n",
       "    </tr>\n",
       "  </tbody>\n",
       "</table>\n",
       "</div>"
      ],
      "text/plain": [
       "             name  height   mass hair_color   skin_color eye_color birth_year  \\\n",
       "0  Luke Skywalker   172.0   77.0      blond         fair      blue      19BBY   \n",
       "1           C-3PO   167.0   75.0    no hair         gold    yellow     112BBY   \n",
       "2           R2-D2    96.0   32.0    no hair  white, blue       red      33BBY   \n",
       "3     Darth Vader   202.0  136.0       none        white    yellow    41.9BBY   \n",
       "4     Leia Organa   150.0   49.0      brown        light     brown      19BBY   \n",
       "\n",
       "      gender homeworld species mass_category  \n",
       "0       male  Tatooine   Human   Normal_mass  \n",
       "1  no gender  Tatooine   Droid   Normal_mass  \n",
       "2  no gender     Naboo   Droid      Low_mass  \n",
       "3       male  Tatooine   Human     High_mass  \n",
       "4     female  Alderaan   Human      Low_mass  "
      ]
     },
     "execution_count": 112,
     "metadata": {},
     "output_type": "execute_result"
    }
   ],
   "source": [
    "df.head()\n",
    "\n",
    "# BBY: Before the Battle of Yavin\n",
    "# let's assume that Battle of Yavin starts today."
   ]
  },
  {
   "cell_type": "code",
   "execution_count": 124,
   "id": "3bd66948-3762-410c-88c3-87662b605131",
   "metadata": {},
   "outputs": [
    {
     "data": {
      "text/html": [
       "<div>\n",
       "<style scoped>\n",
       "    .dataframe tbody tr th:only-of-type {\n",
       "        vertical-align: middle;\n",
       "    }\n",
       "\n",
       "    .dataframe tbody tr th {\n",
       "        vertical-align: top;\n",
       "    }\n",
       "\n",
       "    .dataframe thead th {\n",
       "        text-align: right;\n",
       "    }\n",
       "</style>\n",
       "<table border=\"1\" class=\"dataframe\">\n",
       "  <thead>\n",
       "    <tr style=\"text-align: right;\">\n",
       "      <th></th>\n",
       "      <th>name</th>\n",
       "      <th>height</th>\n",
       "      <th>mass</th>\n",
       "      <th>hair_color</th>\n",
       "      <th>skin_color</th>\n",
       "      <th>eye_color</th>\n",
       "      <th>birth_year</th>\n",
       "      <th>gender</th>\n",
       "      <th>homeworld</th>\n",
       "      <th>species</th>\n",
       "      <th>mass_category</th>\n",
       "      <th>birth_year_without_BBY</th>\n",
       "    </tr>\n",
       "  </thead>\n",
       "  <tbody>\n",
       "    <tr>\n",
       "      <th>0</th>\n",
       "      <td>Luke Skywalker</td>\n",
       "      <td>172.0</td>\n",
       "      <td>77.0</td>\n",
       "      <td>blond</td>\n",
       "      <td>fair</td>\n",
       "      <td>blue</td>\n",
       "      <td>19BBY</td>\n",
       "      <td>male</td>\n",
       "      <td>Tatooine</td>\n",
       "      <td>Human</td>\n",
       "      <td>Normal_mass</td>\n",
       "      <td>19.0</td>\n",
       "    </tr>\n",
       "    <tr>\n",
       "      <th>1</th>\n",
       "      <td>C-3PO</td>\n",
       "      <td>167.0</td>\n",
       "      <td>75.0</td>\n",
       "      <td>no hair</td>\n",
       "      <td>gold</td>\n",
       "      <td>yellow</td>\n",
       "      <td>112BBY</td>\n",
       "      <td>no gender</td>\n",
       "      <td>Tatooine</td>\n",
       "      <td>Droid</td>\n",
       "      <td>Normal_mass</td>\n",
       "      <td>112.0</td>\n",
       "    </tr>\n",
       "    <tr>\n",
       "      <th>2</th>\n",
       "      <td>R2-D2</td>\n",
       "      <td>96.0</td>\n",
       "      <td>32.0</td>\n",
       "      <td>no hair</td>\n",
       "      <td>white, blue</td>\n",
       "      <td>red</td>\n",
       "      <td>33BBY</td>\n",
       "      <td>no gender</td>\n",
       "      <td>Naboo</td>\n",
       "      <td>Droid</td>\n",
       "      <td>Low_mass</td>\n",
       "      <td>33.0</td>\n",
       "    </tr>\n",
       "    <tr>\n",
       "      <th>3</th>\n",
       "      <td>Darth Vader</td>\n",
       "      <td>202.0</td>\n",
       "      <td>136.0</td>\n",
       "      <td>none</td>\n",
       "      <td>white</td>\n",
       "      <td>yellow</td>\n",
       "      <td>41.9BBY</td>\n",
       "      <td>male</td>\n",
       "      <td>Tatooine</td>\n",
       "      <td>Human</td>\n",
       "      <td>High_mass</td>\n",
       "      <td>41.9</td>\n",
       "    </tr>\n",
       "    <tr>\n",
       "      <th>4</th>\n",
       "      <td>Leia Organa</td>\n",
       "      <td>150.0</td>\n",
       "      <td>49.0</td>\n",
       "      <td>brown</td>\n",
       "      <td>light</td>\n",
       "      <td>brown</td>\n",
       "      <td>19BBY</td>\n",
       "      <td>female</td>\n",
       "      <td>Alderaan</td>\n",
       "      <td>Human</td>\n",
       "      <td>Low_mass</td>\n",
       "      <td>19.0</td>\n",
       "    </tr>\n",
       "  </tbody>\n",
       "</table>\n",
       "</div>"
      ],
      "text/plain": [
       "             name  height   mass hair_color   skin_color eye_color birth_year  \\\n",
       "0  Luke Skywalker   172.0   77.0      blond         fair      blue      19BBY   \n",
       "1           C-3PO   167.0   75.0    no hair         gold    yellow     112BBY   \n",
       "2           R2-D2    96.0   32.0    no hair  white, blue       red      33BBY   \n",
       "3     Darth Vader   202.0  136.0       none        white    yellow    41.9BBY   \n",
       "4     Leia Organa   150.0   49.0      brown        light     brown      19BBY   \n",
       "\n",
       "      gender homeworld species mass_category  birth_year_without_BBY  \n",
       "0       male  Tatooine   Human   Normal_mass                    19.0  \n",
       "1  no gender  Tatooine   Droid   Normal_mass                   112.0  \n",
       "2  no gender     Naboo   Droid      Low_mass                    33.0  \n",
       "3       male  Tatooine   Human     High_mass                    41.9  \n",
       "4     female  Alderaan   Human      Low_mass                    19.0  "
      ]
     },
     "execution_count": 124,
     "metadata": {},
     "output_type": "execute_result"
    }
   ],
   "source": [
    "df['birth_year_without_BBY'] = df.birth_year.str.replace('BBY', '').astype(float)\n",
    "df.head()"
   ]
  },
  {
   "cell_type": "code",
   "execution_count": 125,
   "id": "d8a15cb8-8eeb-4c05-8058-96f49f203816",
   "metadata": {},
   "outputs": [
    {
     "data": {
      "text/html": [
       "<div>\n",
       "<style scoped>\n",
       "    .dataframe tbody tr th:only-of-type {\n",
       "        vertical-align: middle;\n",
       "    }\n",
       "\n",
       "    .dataframe tbody tr th {\n",
       "        vertical-align: top;\n",
       "    }\n",
       "\n",
       "    .dataframe thead th {\n",
       "        text-align: right;\n",
       "    }\n",
       "</style>\n",
       "<table border=\"1\" class=\"dataframe\">\n",
       "  <thead>\n",
       "    <tr style=\"text-align: right;\">\n",
       "      <th></th>\n",
       "      <th>name</th>\n",
       "      <th>height</th>\n",
       "      <th>mass</th>\n",
       "      <th>hair_color</th>\n",
       "      <th>skin_color</th>\n",
       "      <th>eye_color</th>\n",
       "      <th>birth_year</th>\n",
       "      <th>gender</th>\n",
       "      <th>homeworld</th>\n",
       "      <th>species</th>\n",
       "      <th>mass_category</th>\n",
       "      <th>birth_year_without_BBY</th>\n",
       "    </tr>\n",
       "  </thead>\n",
       "  <tbody>\n",
       "    <tr>\n",
       "      <th>1</th>\n",
       "      <td>C-3PO</td>\n",
       "      <td>167.0</td>\n",
       "      <td>75.0</td>\n",
       "      <td>no hair</td>\n",
       "      <td>gold</td>\n",
       "      <td>yellow</td>\n",
       "      <td>112BBY</td>\n",
       "      <td>no gender</td>\n",
       "      <td>Tatooine</td>\n",
       "      <td>Droid</td>\n",
       "      <td>Normal_mass</td>\n",
       "      <td>112.0</td>\n",
       "    </tr>\n",
       "    <tr>\n",
       "      <th>12</th>\n",
       "      <td>Chewbacca</td>\n",
       "      <td>228.0</td>\n",
       "      <td>112.0</td>\n",
       "      <td>brown</td>\n",
       "      <td>NaN</td>\n",
       "      <td>blue</td>\n",
       "      <td>200BBY</td>\n",
       "      <td>male</td>\n",
       "      <td>Kashyyyk</td>\n",
       "      <td>Wookiee</td>\n",
       "      <td>High_mass</td>\n",
       "      <td>200.0</td>\n",
       "    </tr>\n",
       "    <tr>\n",
       "      <th>15</th>\n",
       "      <td>Jabba Desilijic Tiure</td>\n",
       "      <td>175.0</td>\n",
       "      <td>1358.0</td>\n",
       "      <td>no hair</td>\n",
       "      <td>green-tan, brown</td>\n",
       "      <td>orange</td>\n",
       "      <td>600BBY</td>\n",
       "      <td>hermaphrodite</td>\n",
       "      <td>Nal Hutta</td>\n",
       "      <td>Hutt</td>\n",
       "      <td>High_mass</td>\n",
       "      <td>600.0</td>\n",
       "    </tr>\n",
       "    <tr>\n",
       "      <th>18</th>\n",
       "      <td>Yoda</td>\n",
       "      <td>66.0</td>\n",
       "      <td>17.0</td>\n",
       "      <td>white</td>\n",
       "      <td>green</td>\n",
       "      <td>brown</td>\n",
       "      <td>896BBY</td>\n",
       "      <td>male</td>\n",
       "      <td>NaN</td>\n",
       "      <td>Yoda's species</td>\n",
       "      <td>Low_mass</td>\n",
       "      <td>896.0</td>\n",
       "    </tr>\n",
       "    <tr>\n",
       "      <th>63</th>\n",
       "      <td>Dooku</td>\n",
       "      <td>193.0</td>\n",
       "      <td>80.0</td>\n",
       "      <td>white</td>\n",
       "      <td>fair</td>\n",
       "      <td>brown</td>\n",
       "      <td>102BBY</td>\n",
       "      <td>male</td>\n",
       "      <td>Serenno</td>\n",
       "      <td>Human</td>\n",
       "      <td>Normal_mass</td>\n",
       "      <td>102.0</td>\n",
       "    </tr>\n",
       "  </tbody>\n",
       "</table>\n",
       "</div>"
      ],
      "text/plain": [
       "                     name  height    mass hair_color        skin_color  \\\n",
       "1                   C-3PO   167.0    75.0    no hair              gold   \n",
       "12              Chewbacca   228.0   112.0      brown               NaN   \n",
       "15  Jabba Desilijic Tiure   175.0  1358.0    no hair  green-tan, brown   \n",
       "18                   Yoda    66.0    17.0      white             green   \n",
       "63                  Dooku   193.0    80.0      white              fair   \n",
       "\n",
       "   eye_color birth_year         gender  homeworld         species  \\\n",
       "1     yellow     112BBY      no gender   Tatooine           Droid   \n",
       "12      blue     200BBY           male   Kashyyyk         Wookiee   \n",
       "15    orange     600BBY  hermaphrodite  Nal Hutta            Hutt   \n",
       "18     brown     896BBY           male        NaN  Yoda's species   \n",
       "63     brown     102BBY           male    Serenno           Human   \n",
       "\n",
       "   mass_category  birth_year_without_BBY  \n",
       "1    Normal_mass                   112.0  \n",
       "12     High_mass                   200.0  \n",
       "15     High_mass                   600.0  \n",
       "18      Low_mass                   896.0  \n",
       "63   Normal_mass                   102.0  "
      ]
     },
     "execution_count": 125,
     "metadata": {},
     "output_type": "execute_result"
    }
   ],
   "source": [
    "df[df.birth_year_without_BBY > 100]"
   ]
  },
  {
   "cell_type": "markdown",
   "id": "3ecb2678-2b6f-4e61-8a22-f1c6fc09914f",
   "metadata": {},
   "source": [
    "### - with matplotlib"
   ]
  },
  {
   "cell_type": "code",
   "execution_count": 141,
   "id": "2cda05c1-051b-4018-a89c-3b3972b09363",
   "metadata": {},
   "outputs": [
    {
     "data": {
      "image/png": "[encoded data removed]",
      "text/plain": [
       "<Figure size 640x480 with 1 Axes>"
      ]
     },
     "metadata": {},
     "output_type": "display_data"
    }
   ],
   "source": [
    "x = df[df.birth_year_without_BBY > 100]\n",
    "\n",
    "fig, ax = plt.subplots()\n",
    "ax.bar(data=df, x=x.name, height=x.birth_year_without_BBY)\n",
    "ax.set_title('Big of Age')\n",
    "ax.set_xlabel('Name')\n",
    "ax.set_ylabel('Age > 100')\n",
    "\n",
    "plt.xticks(rotation=45)\n",
    "plt.tight_layout()\n",
    "\n",
    "for patch in ax.patches:\n",
    "    plt.annotate(text=round(patch.get_height()), xy=(patch.get_x()+0.4, patch.get_height()+2), ha='center')"
   ]
  },
  {
   "cell_type": "markdown",
   "id": "e575620f-4dad-4649-96e3-a3578f3b720d",
   "metadata": {},
   "source": [
    "### - with pandas"
   ]
  },
  {
   "cell_type": "code",
   "execution_count": 205,
   "id": "22df5ce2-02e2-4d6b-be94-8e27d80a4bde",
   "metadata": {},
   "outputs": [
    {
     "data": {
      "text/plain": [
       "Text(4.0, 117.0, '102')"
      ]
     },
     "execution_count": 205,
     "metadata": {},
     "output_type": "execute_result"
    },
    {
     "data": {
      "image/png": "[encoded data removed]",
      "text/plain": [
       "<Figure size 640x480 with 1 Axes>"
      ]
     },
     "metadata": {},
     "output_type": "display_data"
    }
   ],
   "source": [
    "ax = df[df.birth_year_without_BBY > 100].plot(kind='bar', x='name', y='birth_year_without_BBY',\n",
    "                                         legend=None, title='Big of Age')\n",
    "plt.xticks(rotation='horizontal')\n",
    "plt.xlabel(None)\n",
    "plt.tight_layout()\n",
    "\n",
    "plt.annotate(text=round(ax.patches[0].get_height()), \n",
    "             xy=(ax.patches[0].get_x()+0.25, ax.patches[0].get_height()),\n",
    "             rotation=90, ha='center', va='top')\n",
    "plt.annotate(text=round(ax.patches[1].get_height()), \n",
    "             xy=(ax.patches[1].get_x()+0.25, ax.patches[1].get_height()-75),\n",
    "             rotation=90, ha='center')\n",
    "plt.annotate(text=round(ax.patches[2].get_height()), \n",
    "             xy=(ax.patches[2].get_x()+0.25, ax.patches[2].get_height()-275),\n",
    "             rotation=90, ha='center')\n",
    "plt.annotate(text=round(ax.patches[3].get_height()), \n",
    "             xy=(ax.patches[3].get_x()+0.25, ax.patches[3].get_height()-446),\n",
    "             rotation=90, ha='center')\n",
    "plt.annotate(text=round(ax.patches[4].get_height()), \n",
    "             xy=(ax.patches[4].get_x()+0.25, ax.patches[4].get_height()+15),\n",
    "             rotation=90, ha='center', va='top')"
   ]
  },
  {
   "cell_type": "markdown",
   "id": "a97a8646-2440-4a53-8e89-e865741a0142",
   "metadata": {},
   "source": [
    "## Task_6 - Task 6. Plotting the Characters by hair_color (PIE CHART)"
   ]
  },
  {
   "cell_type": "code",
   "execution_count": 215,
   "id": "52d7830a-dfed-40e6-9f08-aea61fe14204",
   "metadata": {},
   "outputs": [
    {
     "data": {
      "text/plain": [
       "hair_color\n",
       "none             29\n",
       "brown            18\n",
       "no hair          14\n",
       "black            13\n",
       "white             4\n",
       "blond             3\n",
       "brown, grey       1\n",
       "auburn, white     1\n",
       "auburn, grey      1\n",
       "grey              1\n",
       "auburn            1\n",
       "blonde            1\n",
       "Name: count, dtype: int64"
      ]
     },
     "execution_count": 215,
     "metadata": {},
     "output_type": "execute_result"
    }
   ],
   "source": [
    "df.hair_color.value_counts()"
   ]
  },
  {
   "cell_type": "code",
   "execution_count": 221,
   "id": "152418bf-9c88-4906-a4bc-909d262f2851",
   "metadata": {},
   "outputs": [
    {
     "data": {
      "image/png": "[encoded data removed]",
      "text/plain": [
       "<Figure size 1000x600 with 1 Axes>"
      ]
     },
     "metadata": {},
     "output_type": "display_data"
    }
   ],
   "source": [
    "plt.figure(figsize=(10, 6))\n",
    "plt.pie(x=df.hair_color.value_counts().values,\n",
    "        labels=df.hair_color.value_counts().index,\n",
    "        autopct=lambda x: round(x, 2));\n",
    "plt.tight_layout()"
   ]
  }
 ],
 "metadata": {
  "kernelspec": {
   "display_name": "Python 3 (ipykernel)",
   "language": "python",
   "name": "python3"
  },
  "language_info": {
   "codemirror_mode": {
    "name": "ipython",
    "version": 3
   },
   "file_extension": ".py",
   "mimetype": "text/x-python",
   "name": "python",
   "nbconvert_exporter": "python",
   "pygments_lexer": "ipython3",
   "version": "3.12.2"
  }
 },
 "nbformat": 4,
 "nbformat_minor": 5
}
